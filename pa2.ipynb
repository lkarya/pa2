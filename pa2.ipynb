{
 "cells": [
  {
   "cell_type": "code",
   "execution_count": 1,
   "id": "82af74ab",
   "metadata": {},
   "outputs": [
    {
     "name": "stdout",
     "output_type": "stream",
     "text": [
      "5.500 kilometers is equal to 3.418 miles\n",
      "6.500 kilometers is equal to 4.039 miles\n"
     ]
    }
   ],
   "source": [
    "# Write a Python program to convert kilometers to miles?\n",
    "\n",
    "# Python3 program to convert\n",
    "# kilometers to miles\n",
    "  \n",
    "# driver code\n",
    "kilometers = 5.5\n",
    "  \n",
    "# conversion factor\n",
    "conv = 0.621371\n",
    "  \n",
    "# calculate miles\n",
    "miles = kilometers * conv\n",
    "print('%0.3f kilometers is equal to %0.3f miles' %(kilometers,miles))\n",
    "  \n",
    "kilometers = 6.5\n",
    "  \n",
    "# calculate miles\n",
    "miles = kilometers * conv\n",
    "print('%0.3f kilometers is equal to %0.3f miles' %(kilometers,miles))"
   ]
  },
  {
   "cell_type": "code",
   "execution_count": 2,
   "id": "e09b68ca",
   "metadata": {},
   "outputs": [
    {
     "name": "stdout",
     "output_type": "stream",
     "text": [
      "40.00 Celsius is equivalent to: 104.00 Fahrenheit\n"
     ]
    }
   ],
   "source": [
    "# Write a Python program to convert Celsius to Fahrenheit?\n",
    "\n",
    "\n",
    "# Temperature in celsius degree\n",
    "celsius = 40\n",
    " \n",
    "# Converting the temperature to\n",
    "# fehrenheit using the above\n",
    "# mentioned formula\n",
    "fahrenheit = (celsius * 1.8) + 32\n",
    " \n",
    "# printing the result\n",
    "print('%.2f Celsius is equivalent to: %.2f Fahrenheit'\n",
    "      %(celsius, fahrenheit))"
   ]
  },
  {
   "cell_type": "code",
   "execution_count": 5,
   "id": "60165526",
   "metadata": {},
   "outputs": [
    {
     "name": "stdout",
     "output_type": "stream",
     "text": [
      "      May 2022\n",
      "Mo Tu We Th Fr Sa Su\n",
      "                   1\n",
      " 2  3  4  5  6  7  8\n",
      " 9 10 11 12 13 14 15\n",
      "16 17 18 19 20 21 22\n",
      "23 24 25 26 27 28 29\n",
      "30 31\n",
      "\n"
     ]
    }
   ],
   "source": [
    "# Write a Python program to display calendar?\n",
    "\n",
    "# Python program to display calendar of\n",
    "# given month of the year\n",
    " \n",
    "# import module\n",
    "import calendar\n",
    " \n",
    "yy = 2022\n",
    "mm = 5\n",
    " \n",
    "# display the calendar\n",
    "print(calendar.month(yy, mm))"
   ]
  },
  {
   "cell_type": "code",
   "execution_count": null,
   "id": "18f20e75",
   "metadata": {},
   "outputs": [],
   "source": [
    "# Write a Python program to solve quadratic equation?\n",
    "\n",
    "ax2 + bx + c\n",
    "where,\n",
    "a, b, and c are coefficient and real numbers and also a ≠ 0.\n",
    "If a is equal to 0 that equation is not valid quadratic equation."
   ]
  }
 ],
 "metadata": {
  "kernelspec": {
   "display_name": "Python 3 (ipykernel)",
   "language": "python",
   "name": "python3"
  },
  "language_info": {
   "codemirror_mode": {
    "name": "ipython",
    "version": 3
   },
   "file_extension": ".py",
   "mimetype": "text/x-python",
   "name": "python",
   "nbconvert_exporter": "python",
   "pygments_lexer": "ipython3",
   "version": "3.9.7"
  }
 },
 "nbformat": 4,
 "nbformat_minor": 5
}
